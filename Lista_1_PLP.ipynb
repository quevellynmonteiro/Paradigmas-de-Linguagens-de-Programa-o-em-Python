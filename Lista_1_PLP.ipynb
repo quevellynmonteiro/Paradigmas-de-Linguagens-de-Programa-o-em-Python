{
  "cells": [
    {
      "cell_type": "markdown",
      "metadata": {
        "id": "view-in-github",
        "colab_type": "text"
      },
      "source": [
        "<a href=\"https://colab.research.google.com/github/quevellynmonteiro/Paradigmas-de-Linguagens-de-Programa-o-em-Python/blob/main/Lista_1_PLP.ipynb\" target=\"_parent\"><img src=\"https://colab.research.google.com/assets/colab-badge.svg\" alt=\"Open In Colab\"/></a>"
      ]
    },
    {
      "cell_type": "markdown",
      "source": [
        "1) Faça um Programa que mostre a mensagem \"Alunos - PLP Unifavip 2022.2\" na tela."
      ],
      "metadata": {
        "id": "9ZhfwIH4VN2c"
      }
    },
    {
      "cell_type": "code",
      "source": [
        "print('Alunos - PLP Unifavip 2025.2')\n"
      ],
      "metadata": {
        "id": "Nw76CnqOVU_8",
        "outputId": "ddf4dc09-14a2-4ad5-94ba-e9f7a85dbb02",
        "colab": {
          "base_uri": "https://localhost:8080/"
        }
      },
      "execution_count": null,
      "outputs": [
        {
          "output_type": "stream",
          "name": "stdout",
          "text": [
            "Alunos - PLP Unifavip 2025.2\n"
          ]
        }
      ]
    },
    {
      "cell_type": "markdown",
      "source": [
        "2) Faça um Programa que peça um número e então mostre a mensagem O número informado foi\n",
        "[número].\n"
      ],
      "metadata": {
        "id": "sbAf6yfSWKgt"
      }
    },
    {
      "cell_type": "code",
      "source": [
        "num = int(input('digite seu número:'))\n",
        "print('O número informado foi', num)\n"
      ],
      "metadata": {
        "id": "qaFKDYWqWMPx",
        "outputId": "009790d7-c1db-4f82-d33f-b8af107ec4d1",
        "colab": {
          "base_uri": "https://localhost:8080/"
        }
      },
      "execution_count": null,
      "outputs": [
        {
          "output_type": "stream",
          "name": "stdout",
          "text": [
            "digite seu número:81995074983\n",
            "O número informado foi 81995074983\n"
          ]
        }
      ]
    },
    {
      "cell_type": "markdown",
      "source": [
        "3) Faça um Programa que peça dois números e mostre como resultado a soma."
      ],
      "metadata": {
        "id": "sN0X0TC9YvTw"
      }
    },
    {
      "cell_type": "code",
      "source": [
        "num1 = float(input('digite o seu 1 número:'))\n",
        "num2 = float(input('digite o seu 2 número:'))\n",
        "\n",
        "soma = num1 + num2\n",
        "\n",
        "print('a soma dos dois números é:', soma)"
      ],
      "metadata": {
        "id": "4lDzlcp5Yyi2",
        "outputId": "f2d01fef-08ee-4858-d51b-0d8905397a05",
        "colab": {
          "base_uri": "https://localhost:8080/"
        }
      },
      "execution_count": null,
      "outputs": [
        {
          "output_type": "stream",
          "name": "stdout",
          "text": [
            "digite o seu 1 número:3.5\n",
            "digite o seu 2 número:6.8\n",
            "a soma dos dois números é: 10.3\n"
          ]
        }
      ]
    },
    {
      "cell_type": "markdown",
      "source": [
        "4) Faça um Programa que peça as 4 notas bimestrais e mostre a média."
      ],
      "metadata": {
        "id": "U4CT-2mbbqu6"
      }
    },
    {
      "cell_type": "code",
      "source": [
        "nota1 = float(input('digite sua primeira nota:'))\n",
        "nota2 = float(input('digite sua segunda nota:'))\n",
        "nota3 = float(input('digite sua terceira nota:'))\n",
        "nota4 = float(input('digite sua quarta nota:'))\n",
        "\n",
        "media = (nota1 + nota2 + nota3 + nota4) /4\n",
        "\n",
        "print(\"A média das notas é:\", round(media, 1))"
      ],
      "metadata": {
        "id": "aPCFj2RVbr-w",
        "outputId": "75a7b8a5-b6ec-4cc1-98c0-eb14a4c18a88",
        "colab": {
          "base_uri": "https://localhost:8080/"
        }
      },
      "execution_count": null,
      "outputs": [
        {
          "output_type": "stream",
          "name": "stdout",
          "text": [
            "digite sua primeira nota:4.5\n",
            "digite sua segunda nota:8.0\n",
            "digite sua terceira nota:6.7\n",
            "digite sua quarta nota:9.5\n",
            "A média das notas é: 7.2\n"
          ]
        }
      ]
    },
    {
      "cell_type": "markdown",
      "source": [
        "5) Faça um Programa que converta metros para centímetros.\n"
      ],
      "metadata": {
        "id": "eQw7wVTUeom5"
      }
    },
    {
      "cell_type": "code",
      "source": [
        "metros = float(input('digite o valor em metros:'))\n",
        "\n",
        "centi = metros * 100\n",
        "\n",
        "print('O valor em centímetros é:', centi)\n"
      ],
      "metadata": {
        "id": "N_-osYm6eqGV",
        "outputId": "a11f2729-247b-4461-9104-e99bd5fd8173",
        "colab": {
          "base_uri": "https://localhost:8080/"
        }
      },
      "execution_count": null,
      "outputs": [
        {
          "output_type": "stream",
          "name": "stdout",
          "text": [
            "digite o valor em metros:25.5\n",
            "O valor em centímetros é: 2550.0\n"
          ]
        }
      ]
    },
    {
      "cell_type": "markdown",
      "source": [
        "6) Faça um Programa que peça o raio de um círculo, calcule e mostre sua área."
      ],
      "metadata": {
        "id": "-VwKjpnUfhp4"
      }
    },
    {
      "cell_type": "code",
      "source": [
        "import math\n",
        "\n",
        "raio = float(input('digite o raio do circulo:'))\n",
        "\n",
        "area = math.pi * raio ** 2\n",
        "\n",
        "print(\"A área do círculo é:\", round(area, 2))"
      ],
      "metadata": {
        "id": "_XLSRIsFfiiO",
        "outputId": "b559dbc6-e488-47d6-815e-c1559c10985b",
        "colab": {
          "base_uri": "https://localhost:8080/"
        }
      },
      "execution_count": null,
      "outputs": [
        {
          "output_type": "stream",
          "name": "stdout",
          "text": [
            "digite o raio do circulo:54\n",
            "A área do círculo é: 9160.88\n"
          ]
        }
      ]
    },
    {
      "cell_type": "markdown",
      "source": [
        "7) Faça um Programa que calcule a área de um quadrado, em seguida mostre o dobro desta área\n",
        "para o usuário."
      ],
      "metadata": {
        "id": "GwL88UyQiPfA"
      }
    },
    {
      "cell_type": "code",
      "source": [
        "lado = float(input(\"Digite o valor do lado do quadrado: \"))\n",
        "\n",
        "area = lado ** 2\n",
        "dobro_area = 2 * area\n",
        "\n",
        "print(\"A área do quadrado é:\", area)\n",
        "print(\"O dobro da área é:\", dobro_area)"
      ],
      "metadata": {
        "id": "gh8Q3CukiQQb",
        "outputId": "c5dd787d-ef18-4bd3-b6ea-e2af8f4664d9",
        "colab": {
          "base_uri": "https://localhost:8080/"
        }
      },
      "execution_count": null,
      "outputs": [
        {
          "output_type": "stream",
          "name": "stdout",
          "text": [
            "Digite o valor do lado do quadrado: 4.5\n",
            "A área do quadrado é: 20.25\n",
            "O dobro da área é: 40.5\n"
          ]
        }
      ]
    },
    {
      "cell_type": "markdown",
      "source": [
        "8) Faça um Programa que pergunte quanto você ganha por hora e o número de horas trabalhadas no\n",
        "mês. Calcule e mostre o total do seu salário no referido mês."
      ],
      "metadata": {
        "id": "Vrnjb72vi5fw"
      }
    },
    {
      "cell_type": "code",
      "source": [
        "valor_hora = float(input(\"Quanto você ganha por hora? R$ \"))\n",
        "\n",
        "horas_trabalhadas = float(input(\"Quantas horas você trabalhou no mês? \"))\n",
        "\n",
        "salario = valor_hora * horas_trabalhadas\n",
        "\n",
        "# o f é utilizado para formatar a string para que possa inserir as variáveis dentro dela\n",
        "# o 2 é para que seja posta 2 casas decimais ja que se trata de um valor em dinheiro\n",
        "\n",
        "\n",
        "print(f\"Seu salário no mês é: R$ {salario:.2f}\")\n"
      ],
      "metadata": {
        "colab": {
          "base_uri": "https://localhost:8080/"
        },
        "id": "GtAhyYtEi9T4",
        "outputId": "51adc2e5-7b13-474b-ad2c-01000e1175ac"
      },
      "execution_count": null,
      "outputs": [
        {
          "output_type": "stream",
          "name": "stdout",
          "text": [
            "Quanto você ganha por hora? R$ 10\n",
            "Quantas horas você trabalhou no mês? 96\n",
            "Seu salário no mês é: R$ 960.00\n"
          ]
        }
      ]
    },
    {
      "cell_type": "markdown",
      "source": [
        "9) Faça um Programa que peça a temperatura em graus Fahrenheit, transforme e mostre a\n",
        "temperatura em graus Celsius."
      ],
      "metadata": {
        "id": "FwnzGtRWnPN3"
      }
    },
    {
      "cell_type": "code",
      "source": [
        "fahrenheit = float(input(\"Digite a temperatura em graus Fahrenheit: \"))\n",
        "\n",
        "celsius = (fahrenheit - 32) * 5 / 9\n",
        "\n",
        "print(f\"A temperatura em graus Celsius é: {celsius:.2f}°C\")"
      ],
      "metadata": {
        "colab": {
          "base_uri": "https://localhost:8080/"
        },
        "id": "PKQ3hEFDnQ27",
        "outputId": "64652160-3a87-4119-f0b4-726f403d2445"
      },
      "execution_count": null,
      "outputs": [
        {
          "output_type": "stream",
          "name": "stdout",
          "text": [
            "Digite a temperatura em graus Fahrenheit: 74\n",
            "A temperatura em graus Celsius é: 23.33°C\n"
          ]
        }
      ]
    },
    {
      "cell_type": "markdown",
      "source": [
        "10) Faça um Programa que peça a temperatura em graus Celsius, transforme e mostre em graus Fahrenheit."
      ],
      "metadata": {
        "id": "4OaGip2Uny0v"
      }
    },
    {
      "cell_type": "code",
      "source": [
        "celsius = float(input(\"Digite a temperatura em graus Celsius: \"))\n",
        "\n",
        "fahrenheit = (celsius * 9 / 5) + 32\n",
        "\n",
        "print(f\"A temperatura em graus Fahrenheit é: {fahrenheit:.2f}°F\")"
      ],
      "metadata": {
        "colab": {
          "base_uri": "https://localhost:8080/"
        },
        "id": "1tLrJlOenzcD",
        "outputId": "92637bae-4e13-4d9d-b31e-d9de9fc17fe4"
      },
      "execution_count": null,
      "outputs": [
        {
          "output_type": "stream",
          "name": "stdout",
          "text": [
            "Digite a temperatura em graus Celsius: 24\n",
            "A temperatura em graus Fahrenheit é: 75.20°F\n"
          ]
        }
      ]
    },
    {
      "cell_type": "markdown",
      "source": [
        "11) Faça um Programa que peça 2 números inteiros e um número real. Calcule e mostre:\n",
        "a. o produto do dobro do primeiro com metade do segundo.\n",
        "b. a soma do triplo do primeiro com o terceiro.\n",
        "c. o terceiro elevado ao cubo."
      ],
      "metadata": {
        "id": "OqAta6FzoELL"
      }
    },
    {
      "cell_type": "code",
      "source": [
        "num1 = int(input(\"Digite o primeiro número inteiro: \"))\n",
        "num2 = int(input(\"Digite o segundo número inteiro: \"))\n",
        "num3 = float(input(\"Digite um número real: \"))\n",
        "\n",
        "resultado_a = (2 * num1) * (num2 / 2)\n",
        "resultado_b = (3 * num1) + num3\n",
        "resultado_c = num3 ** 3\n",
        "\n",
        "print(f\"\\na) O produto do dobro do primeiro com metade do segundo é: {resultado_a}\")\n",
        "print(f\"b) A soma do triplo do primeiro com o terceiro é: {resultado_b}\")\n",
        "print(f\"c) O terceiro número elevado ao cubo é: {resultado_c:.2f}\")"
      ],
      "metadata": {
        "colab": {
          "base_uri": "https://localhost:8080/"
        },
        "id": "Ln3VgzHeoFEm",
        "outputId": "9f9fab33-c836-400b-be40-e39b5ad44621"
      },
      "execution_count": null,
      "outputs": [
        {
          "output_type": "stream",
          "name": "stdout",
          "text": [
            "Digite o primeiro número inteiro: 20\n",
            "Digite o segundo número inteiro: 45\n",
            "Digite um número real: 4.5\n",
            "\n",
            "a) O produto do dobro do primeiro com metade do segundo é: 900.0\n",
            "b) A soma do triplo do primeiro com o terceiro é: 64.5\n",
            "c) O terceiro número elevado ao cubo é: 91.12\n"
          ]
        }
      ]
    },
    {
      "cell_type": "markdown",
      "source": [
        "12) Tendo como dados de entrada a altura de uma pessoa, construa um programa que calcule seu\n",
        "peso ideal, usando a seguinte fórmula: (72.7*altura) - 58"
      ],
      "metadata": {
        "id": "7gV_TFPlohWM"
      }
    },
    {
      "cell_type": "code",
      "source": [
        "altura = float(input(\"Digite sua altura em metros (ex: 1.50): \"))\n",
        "peso_ideal = (72.7 * altura) - 58\n",
        "print(f\"Seu peso ideal é: {peso_ideal:.2f} kg\")"
      ],
      "metadata": {
        "colab": {
          "base_uri": "https://localhost:8080/"
        },
        "id": "PGgbDb1YoiJb",
        "outputId": "6a004c87-ee11-4853-d0f0-861a537968da"
      },
      "execution_count": null,
      "outputs": [
        {
          "output_type": "stream",
          "name": "stdout",
          "text": [
            "Digite sua altura em metros (ex: 1.50): 1.68\n",
            "Seu peso ideal é: 64.14 kg\n"
          ]
        }
      ]
    },
    {
      "cell_type": "markdown",
      "source": [
        "13) Tendo como dado de entrada a altura (h) de uma pessoa, construa um algoritmo que calcule seu\n",
        "peso ideal, utilizando as seguintes fórmulas:"
      ],
      "metadata": {
        "id": "juxJ95VSqTGa"
      }
    },
    {
      "cell_type": "code",
      "source": [
        "#.strip(): remove espaços extras antes/depois do texto.\n",
        "#.upper(): converte a letra para maiúscula (por exemplo, se digitar \"f\" vira \"F\").\n",
        "\n",
        "sexo = input(\"Digite seu sexo (M para masculino, F para feminino): \").strip().upper()\n",
        "altura = float(input(\"Digite sua altura em metros (ex: 1.60): \"))\n",
        "\n",
        "if sexo == 'M':\n",
        "    peso_ideal = (72.7 * altura) - 58\n",
        "elif sexo == 'F':\n",
        "    peso_ideal = (62.1 * altura) - 44.7\n",
        "else:\n",
        "    print(\"Sexo inválido. Use M para masculino ou F para feminino.\")\n",
        "    peso_ideal = None\n",
        "\n",
        "if peso_ideal is not None:\n",
        "    print(f\"Seu peso ideal é: {peso_ideal:.2f} kg\")"
      ],
      "metadata": {
        "colab": {
          "base_uri": "https://localhost:8080/"
        },
        "id": "qwU0oIGoqUJU",
        "outputId": "b371e8e7-15ef-4ee1-bf01-f174a26eccc5"
      },
      "execution_count": null,
      "outputs": [
        {
          "output_type": "stream",
          "name": "stdout",
          "text": [
            "Digite seu sexo (M para masculino, F para feminino): f\n",
            "Digite sua altura em metros (ex: 1.70): 1.68\n",
            "Seu peso ideal é: 59.63 kg\n"
          ]
        }
      ]
    },
    {
      "cell_type": "markdown",
      "source": [
        "14) João Papo-de-Pescador, homem de bem, comprou um computador para controlar o rendimento\n",
        "diário de seu trabalho. Toda vez que ele traz um peso de peixes maior que o estabelecido pelo\n",
        "regulamento de pesca do estado de São Paulo (50 quilos) deve pagar uma multa de R$ 4,00 por\n",
        "quilo excedente. João precisa que você faça um programa que leia a variável peso (peso de peixes)\n",
        "e calcule o excesso. Gravar na variável excesso a quantidade de quilos além do limite e na\n",
        "variável multa o valor da multa que João deverá pagar. Imprima os dados do programa com as\n",
        "mensagens adequadas."
      ],
      "metadata": {
        "id": "Dj9uaYpjsx_v"
      }
    },
    {
      "cell_type": "code",
      "source": [
        "limite = 50  # Limite em quilos\n",
        "valor_multa_por_kg = 4.00  # Valor da multa por quilo excedente\n",
        "\n",
        "peso = float(input(\"Digite o peso de peixes trazido (em kg): \"))\n",
        "\n",
        "# Cálculo do excesso e multa\n",
        "if peso > limite:\n",
        "    excesso = peso - limite\n",
        "    multa = excesso * valor_multa_por_kg\n",
        "else:\n",
        "    excesso = 0\n",
        "    multa = 0\n",
        "\n",
        "print(\"\\n--- Relatório de Pesca ---\")\n",
        "print(f\"Peso informado: {peso:.2f} kg\")\n",
        "print(f\"Excesso de peso: {excesso:.2f} kg\")\n",
        "print(f\"Multa a pagar: R$ {multa:.2f}\")"
      ],
      "metadata": {
        "colab": {
          "base_uri": "https://localhost:8080/"
        },
        "id": "Ui3G6-0AszFQ",
        "outputId": "9b109d98-2037-42d0-bfed-aa7ba90ae63b"
      },
      "execution_count": null,
      "outputs": [
        {
          "output_type": "stream",
          "name": "stdout",
          "text": [
            "Digite o peso de peixes trazido (em kg): 64\n",
            "\n",
            "--- Relatório de Pesca ---\n",
            "Peso informado: 64.00 kg\n",
            "Excesso de peso: 14.00 kg\n",
            "Multa a pagar: R$ 56.00\n"
          ]
        }
      ]
    },
    {
      "cell_type": "markdown",
      "source": [
        "15) Faça um Programa que pergunte quanto você ganha por hora e o número de horas trabalhadas\n",
        "no mês. Calcule e mostre o total do seu salário no referido mês, sabendo-se que são descontados\n",
        "11% para o Imposto de Renda, 8% para o INSS e 5% para o sindicato, faça um programa que nos dê:\n",
        "a. salário bruto.\n",
        "b. quanto pagou ao INSS.\n",
        "c. quanto pagou ao sindicato.\n",
        "d. o salário líquido.\n",
        "e. calcule os descontos e o salário líquido, conforme a tabela abaixo\n",
        "\n",
        "+ Salário Bruto : R$\n",
        "- IR (11%) : R$\n",
        "- INSS (8%) : R$\n",
        "- Sindicato ( 5%) : R$\n",
        "= Salário Liquido : R$\n",
        "Obs.: Salário Bruto - Descontos = Salário Líquido."
      ],
      "metadata": {
        "id": "ru697tBgtT7P"
      }
    },
    {
      "cell_type": "code",
      "source": [
        "valor_hora = float(input(\"Quanto você ganha por hora? R$ \"))\n",
        "horas_mes = float(input(\"Quantas horas você trabalhou no mês? \"))\n",
        "\n",
        "salario_bruto = valor_hora * horas_mes\n",
        "ir = salario_bruto * 0.11        # 11% Imposto de Renda\n",
        "inss = salario_bruto * 0.08      # 8% INSS\n",
        "sindicato = salario_bruto * 0.05 # 5% Sindicato\n",
        "total_descontos = ir + inss + sindicato\n",
        "salario_liquido = salario_bruto - total_descontos\n",
        "\n",
        "print(\"\\n--- Folha de Pagamento ---\")\n",
        "print(f\"+ Salário Bruto      : R$ {salario_bruto:.2f}\")\n",
        "print(f\"- IR (11%)           : R$ {ir:.2f}\")\n",
        "print(f\"- INSS (8%)          : R$ {inss:.2f}\")\n",
        "print(f\"- Sindicato (5%)     : R$ {sindicato:.2f}\")\n",
        "print(f\"= Salário Líquido    : R$ {salario_liquido:.2f}\")"
      ],
      "metadata": {
        "colab": {
          "base_uri": "https://localhost:8080/"
        },
        "id": "IhYRbrfdtVBu",
        "outputId": "966b31d9-f0fa-416c-fcdd-39ce986c83e3"
      },
      "execution_count": null,
      "outputs": [
        {
          "output_type": "stream",
          "name": "stdout",
          "text": [
            "Quanto você ganha por hora? R$ 25\n",
            "Quantas horas você trabalhou no mês? 96\n",
            "\n",
            "--- Folha de Pagamento ---\n",
            "+ Salário Bruto      : R$ 2400.00\n",
            "- IR (11%)           : R$ 264.00\n",
            "- INSS (8%)          : R$ 192.00\n",
            "- Sindicato (5%)     : R$ 120.00\n",
            "= Salário Líquido    : R$ 1824.00\n"
          ]
        }
      ]
    },
    {
      "cell_type": "markdown",
      "source": [
        "16) Faça um programa para uma loja de tintas. O programa deverá pedir o tamanho em metros\n",
        "quadrados da área a ser pintada. Considere que a cobertura da tinta é de 1 litro para cada 3 metros\n",
        "quadrados e que a tinta é vendida em latas de 18 litros, que custam R$ 80,00. Informe ao usuário a\n",
        "quantidades de latas de tinta a serem compradas e o preço total."
      ],
      "metadata": {
        "id": "WI0XGGPDtodQ"
      }
    },
    {
      "cell_type": "code",
      "source": [
        "import math\n",
        "\n",
        "# Constantes\n",
        "litros_por_m2 = 1 / 3         # 1 litro pinta 3 m²\n",
        "litros_por_lata = 18          # Cada lata tem 18 litros\n",
        "preco_por_lata = 80.00        # Cada lata custa R$80,00\n",
        "\n",
        "area = float(input(\"Digite o tamanho da área a ser pintada (em m²): \"))\n",
        "\n",
        "# Cálculo de litros necessários\n",
        "litros_necessarios = area * litros_por_m2\n",
        "\n",
        "# Cálculo da quantidade de latas (sempre arredondando para cima)\n",
        "latas_necessarias = math.ceil(litros_necessarios / litros_por_lata)\n",
        "\n",
        "# Cálculo do custo total\n",
        "custo_total = latas_necessarias * preco_por_lata\n",
        "\n",
        "print(\"\\n--- Orçamento de Tinta ---\")\n",
        "print(f\"Área a ser pintada: {area:.2f} m²\")\n",
        "print(f\"Litros necessários: {litros_necessarios:.2f} L\")\n",
        "print(f\"Latas necessárias: {latas_necessarias} lata(s)\")\n",
        "print(f\"Preço total: R$ {custo_total:.2f}\")"
      ],
      "metadata": {
        "colab": {
          "base_uri": "https://localhost:8080/"
        },
        "id": "Id4XqhFstpUo",
        "outputId": "e9c6aa02-aed8-4f7d-d54e-471890018ee5"
      },
      "execution_count": null,
      "outputs": [
        {
          "output_type": "stream",
          "name": "stdout",
          "text": [
            "Digite o tamanho da área a ser pintada (em m²): 65\n",
            "\n",
            "--- Orçamento de Tinta ---\n",
            "Área a ser pintada: 65.00 m²\n",
            "Litros necessários: 21.67 L\n",
            "Latas necessárias: 2 lata(s)\n",
            "Preço total: R$ 160.00\n"
          ]
        }
      ]
    },
    {
      "cell_type": "markdown",
      "source": [
        "17) Faça um Programa para uma loja de tintas. O programa deverá pedir o tamanho em metros\n",
        "quadrados da área a ser pintada. Considere que a cobertura da tinta é de 1 litro para cada 6 metros\n",
        "quadrados e que a tinta é vendida em latas de 18 litros, que custam R$ 80,00 ou em galões de 3,6\n",
        "litros, que custam R$ 25,00.\n",
        "Informe ao usuário as quantidades de tinta a serem compradas e os respectivos preços em 3\n",
        "situações:\n",
        "• comprar apenas latas de 18 litros;\n",
        "• comprar apenas galões de 3,6 litros;\n",
        "• misturar latas e galões, de forma que o desperdício de tinta seja menor. Acrescente 10% de\n",
        "folga e sempre arredonde os valores para cima, isto é, considere latas cheias."
      ],
      "metadata": {
        "id": "aF2K9IQ-ulRX"
      }
    },
    {
      "cell_type": "code",
      "source": [
        "import math\n",
        "\n",
        "# Entrada\n",
        "area = float(input(\"Digite a área a ser pintada (m²): \"))\n",
        "\n",
        "# Constantes\n",
        "cobertura = 6               # 1 litro para 6 m²\n",
        "litro_por_lata = 18\n",
        "preco_lata = 80.00\n",
        "litro_por_galao = 3.6\n",
        "preco_galao = 25.00\n",
        "\n",
        "# Litros necessários com 10% de folga\n",
        "litros_necessarios = area / cobertura\n",
        "litros_com_folga = litros_necessarios * 1.1\n",
        "\n",
        "# --- Situação 1: Apenas latas ---\n",
        "latas_necessarias = math.ceil(litros_com_folga / litro_por_lata)\n",
        "preco_latas = latas_necessarias * preco_lata\n",
        "\n",
        "# --- Situação 2: Apenas galões ---\n",
        "galoes_necessarios = math.ceil(litros_com_folga / litro_por_galao)\n",
        "preco_galoes = galoes_necessarios * preco_galao\n",
        "\n",
        "# --- Situação 3: Mistura latas + galões ---\n",
        "latas_mistas = math.floor(litros_com_folga / litro_por_lata)\n",
        "litros_restantes = litros_com_folga - (latas_mistas * litro_por_lata)\n",
        "galoes_mistos = math.ceil(litros_restantes / litro_por_galao)\n",
        "\n",
        "preco_misto = (latas_mistas * preco_lata) + (galoes_mistos * preco_galao)\n",
        "\n",
        "# --- Saída ---\n",
        "print(\"\\n--- Opções de Compra ---\")\n",
        "\n",
        "print(f\"\\n1) Apenas latas de 18 litros:\")\n",
        "print(f\"Quantidade: {latas_necessarias} lata(s)\")\n",
        "print(f\"Preço total: R$ {preco_latas:.2f}\")\n",
        "\n",
        "print(f\"\\n2) Apenas galões de 3,6 litros:\")\n",
        "print(f\"Quantidade: {galoes_necessarios} galão(ões)\")\n",
        "print(f\"Preço total: R$ {preco_galoes:.2f}\")\n",
        "\n",
        "print(f\"\\n3) Mistura de latas e galões:\")\n",
        "print(f\"Quantidade: {latas_mistas} lata(s) e {galoes_mistos} galão(ões)\")\n",
        "print(f\"Preço total: R$ {preco_misto:.2f}\")\n"
      ],
      "metadata": {
        "colab": {
          "base_uri": "https://localhost:8080/"
        },
        "id": "zH2aZsgRumEp",
        "outputId": "a229f5e8-5e86-40ea-eaed-78702c977704"
      },
      "execution_count": null,
      "outputs": [
        {
          "output_type": "stream",
          "name": "stdout",
          "text": [
            "Digite a área a ser pintada (m²): 45\n",
            "\n",
            "--- Opções de Compra ---\n",
            "\n",
            "1) Apenas latas de 18 litros:\n",
            "Quantidade: 1 lata(s)\n",
            "Preço total: R$ 80.00\n",
            "\n",
            "2) Apenas galões de 3,6 litros:\n",
            "Quantidade: 3 galão(ões)\n",
            "Preço total: R$ 75.00\n",
            "\n",
            "3) Mistura de latas e galões:\n",
            "Quantidade: 0 lata(s) e 3 galão(ões)\n",
            "Preço total: R$ 75.00\n"
          ]
        }
      ]
    },
    {
      "cell_type": "markdown",
      "source": [
        "18) Faça um programa que peça o tamanho de um arquivo para download (em MB) e a velocidade de um link de Internet (em Mbps), calcule e informe o tempo aproximado de download do arquivo usando este link (em minutos)"
      ],
      "metadata": {
        "id": "AlNyjPJGu19L"
      }
    },
    {
      "cell_type": "code",
      "source": [
        "# Entrada de dados\n",
        "tamanho_arquivo_MB = float(input(\"Digite o tamanho do arquivo para download (em MB): \"))\n",
        "velocidade_mbps = float(input(\"Digite a velocidade do link de Internet (em Mbps): \"))\n",
        "\n",
        "# Cálculo do tempo em segundos\n",
        "tempo_segundos = (tamanho_arquivo_MB * 8) / velocidade_mbps\n",
        "\n",
        "# Converter para minutos\n",
        "tempo_minutos = tempo_segundos / 60\n",
        "\n",
        "# Exibir resultado\n",
        "print(f\"\\nTempo aproximado de download: {tempo_minutos:.2f} minutos\")\n"
      ],
      "metadata": {
        "colab": {
          "base_uri": "https://localhost:8080/"
        },
        "id": "iN9kDwauu4K2",
        "outputId": "0664bed6-4247-4b7b-9d24-d0c7b62802dc"
      },
      "execution_count": null,
      "outputs": [
        {
          "output_type": "stream",
          "name": "stdout",
          "text": [
            "Digite o tamanho do arquivo para download (em MB): 450\n",
            "Digite a velocidade do link de Internet (em Mbps): 600\n",
            "\n",
            "Tempo aproximado de download: 0.10 minutos\n"
          ]
        }
      ]
    },
    {
      "cell_type": "markdown",
      "source": [
        "19) Crie um programa para preencher um vetor (lista) com números inteiros e solicitar um número do\n",
        "teclado. Pesquisar se esse número existe no vetor. Se existir, imprimir em qual posição do vetor (lista)\n",
        "foi digitado. Se não existir, imprimir mensagem que não existe."
      ],
      "metadata": {
        "id": "pxYaxREZvDLh"
      }
    },
    {
      "cell_type": "code",
      "source": [
        "# Criar vetor com números inteiros\n",
        "vetor = []\n",
        "\n",
        "# Definir tamanho do vetor\n",
        "tamanho = int(input(\"Quantos números deseja inserir no vetor? \"))\n",
        "\n",
        "# Preencher vetor\n",
        "for i in range(tamanho):\n",
        "    num = int(input(f\"Digite o número {i+1}: \"))\n",
        "    vetor.append(num)\n",
        "\n",
        "# Solicitar número para pesquisa\n",
        "numero_pesquisar = int(input(\"Digite o número que deseja pesquisar no vetor: \"))\n",
        "\n",
        "# Pesquisar número no vetor\n",
        "if numero_pesquisar in vetor:\n",
        "    posicao = vetor.index(numero_pesquisar)  # retorna a primeira ocorrência\n",
        "    print(f\"O número {numero_pesquisar} foi encontrado na posição {posicao}.\")\n",
        "else:\n",
        "    print(f\"O número {numero_pesquisar} não existe no vetor.\")\n"
      ],
      "metadata": {
        "colab": {
          "base_uri": "https://localhost:8080/"
        },
        "id": "j24OYICKvDxx",
        "outputId": "09d3aa7f-013b-48e0-d6e6-98ff75467e3f"
      },
      "execution_count": null,
      "outputs": [
        {
          "output_type": "stream",
          "name": "stdout",
          "text": [
            "Quantos números deseja inserir no vetor? 2\n",
            "Digite o número 1: 32\n",
            "Digite o número 2: 41\n",
            "Digite o número que deseja pesquisar no vetor: 23\n",
            "O número 23 não existe no vetor.\n"
          ]
        }
      ]
    },
    {
      "cell_type": "markdown",
      "source": [
        "20) Faça um programa que exiba na tela a quantidade de acertos de cada aluno em uma prova, e\n",
        "caso a nota seja igual ou maior que 60% da quantidade de questões exiba “Classificado”, se não\n",
        "“Desclassificado”. Para isso crie uma TUPLA que receba o cartão gabarito com as 20 questões, cada\n",
        "uma com cinco alternativas identificadas por A, B, C, D e E., Depois crie uma lista para cada Aluno e\n",
        "receba as 20 questões da prova dele e diga se o aluno está Classificado ou Desclassificado. Ao final,\n",
        "pergunte se o usuário deseja cadastrar outro aluno ou finalizar o programa.\n",
        "Obs.: Utilizar os conceitos vistos em sala de (Tupla, Lista, Estrutura Condicionais e Repetições);"
      ],
      "metadata": {
        "id": "FVuu4flRve1a"
      }
    },
    {
      "cell_type": "code",
      "source": [
        "aaa# Gabarito das 20 questões (tupla, imutável)\n",
        "gabarito = (\n",
        "    'A', 'C', 'B', 'D', 'E',\n",
        "    'A', 'B', 'C', 'D', 'E',\n",
        "    'A', 'C', 'B', 'D', 'E',\n",
        "    'A', 'B', 'C', 'D', 'E'\n",
        ")\n",
        "\n",
        "num_questoes = len(gabarito)\n",
        "nota_minima = 0.6 * num_questoes  # 60% de acertos\n",
        "\n",
        "while True:\n",
        "    print(\"\\nDigite as respostas do aluno (20 questões):\")\n",
        "    respostas_aluno = []\n",
        "\n",
        "    # Receber as respostas do aluno\n",
        "    for i in range(num_questoes):\n",
        "        while True:\n",
        "            resposta = input(f\"Questão {i+1}: \").strip().upper()\n",
        "            if resposta in ('A', 'B', 'C', 'D', 'E'):\n",
        "                respostas_aluno.append(resposta)\n",
        "                break\n",
        "            else:\n",
        "                print(\"Resposta inválida! Digite A, B, C, D ou E.\")\n",
        "\n",
        "    # Calcular acertos\n",
        "    acertos = 0\n",
        "    for i in range(num_questoes):\n",
        "        if respostas_aluno[i] == gabarito[i]:\n",
        "            acertos += 1\n",
        "\n",
        "    # Mostrar resultado\n",
        "    print(f\"\\nAcertos do aluno: {acertos} de {num_questoes}\")\n",
        "\n",
        "    if acertos >= nota_minima:\n",
        "        print(\"Classificado\")\n",
        "    else:\n",
        "        print(\"Desclassificado\")\n",
        "\n",
        "    # Perguntar se deseja cadastrar outro aluno\n",
        "    continuar = input(\"\\nDeseja cadastrar outro aluno? (S/N): \").strip().upper()\n",
        "    if continuar != 'S':\n",
        "        print(\"Programa finalizado.\")\n",
        "        break\n"
      ],
      "metadata": {
        "colab": {
          "base_uri": "https://localhost:8080/"
        },
        "id": "wejT8x0EvfZv",
        "outputId": "ace12e43-8208-47fc-aa3c-a27caec3933e"
      },
      "execution_count": null,
      "outputs": [
        {
          "output_type": "stream",
          "name": "stdout",
          "text": [
            "\n",
            "Digite as respostas do aluno (20 questões):\n",
            "Questão 1: a\n",
            "Questão 2: b\n",
            "Questão 3: c\n",
            "Questão 4: a\n",
            "Questão 5: e\n",
            "Questão 6: d\n",
            "Questão 7: w\n",
            "Resposta inválida! Digite A, B, C, D ou E.\n",
            "Questão 7: a\n",
            "Questão 8: e\n",
            "Questão 9: c\n",
            "Questão 10: d\n",
            "Questão 11: a\n",
            "Questão 12: w\n",
            "Resposta inválida! Digite A, B, C, D ou E.\n",
            "Questão 12: d\n",
            "Questão 13: e\n",
            "Questão 14: a\n",
            "Questão 15: a\n",
            "Questão 16: a\n",
            "Questão 17: \n",
            "Resposta inválida! Digite A, B, C, D ou E.\n",
            "Questão 17: \n",
            "Resposta inválida! Digite A, B, C, D ou E.\n",
            "Questão 17: e\n",
            "Questão 18: v\n",
            "Resposta inválida! Digite A, B, C, D ou E.\n",
            "Questão 18: a\n",
            "Questão 19: e\n",
            "Questão 20: b\n",
            "\n",
            "Acertos do aluno: 4 de 20\n",
            "Desclassificado\n",
            "\n",
            "Deseja cadastrar outro aluno? (S/N): n\n",
            "Programa finalizado.\n"
          ]
        }
      ]
    },
    {
      "cell_type": "markdown",
      "source": [
        "\n",
        "### 1. **Tupla**: `(gabarito = (...))`\n",
        "\n",
        "* **Tupla** é uma estrutura de dados imutável, ou seja, uma vez criada, não pode ser alterada.\n",
        "* No nosso caso, a **tupla `gabarito`** guarda as respostas corretas para as 20 questões da prova.\n",
        "* As respostas são representadas pelas letras `A`, `B`, `C`, `D`, e `E`.\n",
        "\n",
        "### 2. **Lista**: `(respostas_aluno = [])`\n",
        "\n",
        "* **Lista** é uma estrutura de dados mutável, ou seja, você pode adicionar, remover e modificar os elementos nela.\n",
        "* A **lista `respostas_aluno`** armazena as respostas dadas pelo aluno durante a prova.\n",
        "* Cada resposta é armazenada como um **elemento** da lista, e sua ordem importa.\n",
        "\n",
        "### 3. **Laços de repetição**: `for` e `while`\n",
        "\n",
        "#### `for`:\n",
        "\n",
        "```python\n",
        "for i in range(num_questoes):\n",
        "```\n",
        "\n",
        "* **`for`** é um laço de repetição usado para iterar (repetir) sobre uma sequência, como uma lista ou intervalo.\n",
        "* No código, **`range(num_questoes)`** cria uma sequência de números de 0 até 19 (20 questões), e o laço **`for`** percorre esse intervalo.\n",
        "* **`i`** é o índice que vai de 0 a 19, permitindo acessar as questões e compará-las.\n",
        "\n",
        "#### `while`:\n",
        "\n",
        "```python\n",
        "while True:\n",
        "```\n",
        "\n",
        "* **`while True`** cria um laço infinito que só será interrompido quando o usuário escolher não cadastrar outro aluno.\n",
        "* O laço **`while`** é usado para garantir que o programa continue perguntando até o usuário decidir parar (responder \"N\").\n",
        "\n",
        "---\n",
        "\n",
        "### 4. **Condicionais**: `if` e `else`\n",
        "\n",
        "#### `if`:\n",
        "\n",
        "```python\n",
        "if resposta in ('A', 'B', 'C', 'D', 'E'):\n",
        "```\n",
        "\n",
        "* **`if`** (se) é uma estrutura condicional que executa um bloco de código se uma condição for verdadeira.\n",
        "* A condição `resposta in ('A', 'B', 'C', 'D', 'E')` verifica se a resposta dada pelo aluno é uma das opções válidas (A, B, C, D, E).\n",
        "\n",
        "#### `else`:\n",
        "\n",
        "```python\n",
        "else:\n",
        "    print(\"Resposta inválida! Digite A, B, C, D ou E.\")\n",
        "```\n",
        "\n",
        "* **`else`** (caso contrário) é uma parte da estrutura condicional que executa um código alternativo se a condição do **`if`** não for verdadeira.\n",
        "* Aqui, se a resposta for inválida, o programa avisa o usuário e pede para tentar novamente.\n",
        "\n",
        "#### `if acertos >= nota_minima:`:\n",
        "\n",
        "```python\n",
        "if acertos >= nota_minima:\n",
        "    print(\"Classificado\")\n",
        "```\n",
        "\n",
        "* Aqui, **`if`** verifica se o aluno obteve **60%** ou mais de acertos.\n",
        "* Se sim, ele é **Classificado**.\n",
        "\n",
        "#### `else`:\n",
        "\n",
        "```python\n",
        "else:\n",
        "    print(\"Desclassificado\")\n",
        "```\n",
        "\n",
        "* Caso o aluno não tenha atingido os 60% de acertos, ele será **Desclassificado**.\n",
        "\n",
        "---\n",
        "\n",
        "### 5. **Funções e Métodos**\n",
        "\n",
        "#### `input()`\n",
        "\n",
        "```python\n",
        "input(\"Digite as respostas do aluno (20 questões):\")\n",
        "```\n",
        "\n",
        "* **`input()`** é uma função que solicita uma entrada do usuário.\n",
        "* Ele exibe uma mensagem e espera que o usuário digite algo.\n",
        "* O valor retornado pelo **`input()`** sempre será uma **string** (texto).\n",
        "\n",
        "#### `strip()`:\n",
        "\n",
        "```python\n",
        "input().strip().upper()\n",
        "```\n",
        "\n",
        "* **`strip()`** remove espaços em branco antes e depois da string.\n",
        "* **`upper()`** converte a string para **maiúsculas**, garantindo que o usuário possa digitar `a`, `A`, etc., de forma consistente.\n",
        "\n",
        "#### `int()`:\n",
        "\n",
        "```python\n",
        "int(input(\"Digite um número para pesquisar: \"))\n",
        "```\n",
        "\n",
        "* **`int()`** converte uma entrada do tipo string em um número inteiro.\n",
        "* Isso é necessário porque `input()` retorna sempre uma string, e precisamos de um número inteiro para cálculos, como comparações.\n",
        "\n",
        "#### `index()`\n",
        "\n",
        "```python\n",
        "posicao = gabarito.index(respostas_aluno[i])\n",
        "```\n",
        "\n",
        "* **`index()`** retorna a posição (índice) da **primeira ocorrência** de um valor na tupla/lista.\n",
        "* Nesse caso, estamos comparando a resposta do aluno com o gabarito e pegando a posição da questão.\n",
        "\n",
        "---\n",
        "\n",
        "### 6. **Lógica do Programa**\n",
        "\n",
        "1. O programa inicia perguntando as respostas do aluno (20 questões).\n",
        "2. Para cada questão, ele valida se a resposta está correta (se está entre A, B, C, D ou E).\n",
        "3. O programa então conta quantos acertos o aluno teve, comparando suas respostas com o **gabarito**.\n",
        "4. Ele verifica se o aluno teve **60%** ou mais de acertos. Se sim, ele é **Classificado**; se não, ele é **Desclassificado**.\n",
        "5. O programa pergunta se deseja cadastrar outro aluno e repete o processo até o usuário decidir parar.\n",
        "\n",
        "---\n",
        "\n",
        "### 7. **Break e Continue**\n",
        "\n",
        "* **`break`**: O código não usa `break` diretamente, mas se o usuário optar por não cadastrar outro aluno (responder \"N\"), o loop **`while True`** é encerrado.\n",
        "\n",
        "* **`continue`**: O código também não usa diretamente, mas você poderia usá-lo para \"pular\" uma iteração no laço, por exemplo, quando o usuário insere uma resposta inválida e queremos voltar a pedir uma resposta válida sem continuar com a execução do restante do código.\n",
        "\n",
        "---\n",
        "\n",
        "### Resumo dos conceitos:\n",
        "\n",
        "* **Tupla**: Usada para armazenar o gabarito, que não pode ser alterado.\n",
        "* **Lista**: Usada para armazenar as respostas de cada aluno, que podem ser modificadas.\n",
        "* **`for` e `while`**: Laços de repetição usados para percorrer as questões e pedir entradas repetidamente.\n",
        "* **`if`, `else`**: Estruturas condicionais usadas para verificar acertos e classificação.\n",
        "* **Métodos** como `input()`, `strip()`, `upper()`, e `index()` são usados para interagir com o usuário e processar dados.\n",
        "\n",
        "Se você precisar de mais detalhes sobre algum termo ou quiser testar o código, só avisar!\n"
      ],
      "metadata": {
        "id": "0DaqaAgnv4an"
      }
    },
    {
      "cell_type": "markdown",
      "source": [
        "21) Faça um programa que peça do usuário o nome de 6 cidades, depois de inseridas verifique se há\n",
        "nomes iguais e havendo peça para que sejam inseridos novamente, e também crie a opção do usuário\n",
        "concatenar dados ao nome da cidade. E por fim, exiba qual o nome de cidade mais extenso."
      ],
      "metadata": {
        "id": "2X4ip9hcwQA2"
      }
    },
    {
      "cell_type": "code",
      "source": [
        "# Função para verificar se o nome da cidade já existe\n",
        "def cidade_existe(cidades, cidade):\n",
        "    return cidade in cidades\n",
        "\n",
        "# Lista para armazenar as cidades\n",
        "cidades = []\n",
        "\n",
        "# Solicita 6 cidades ao usuário\n",
        "for i in range(6):\n",
        "    while True:\n",
        "        cidade = input(f\"Digite o nome da cidade {i+1}: \").strip()\n",
        "\n",
        "        # Verifica se a cidade já foi inserida\n",
        "        if cidade_existe(cidades, cidade):\n",
        "            print(\"Cidade já inserida, insira um nome diferente ou adicione informações à cidade.\")\n",
        "            continuar = input(\"Deseja concatenar algo ao nome da cidade? (S/N): \").strip().upper()\n",
        "            if continuar == 'S':\n",
        "                adicionar = input(\"Digite o que deseja adicionar: \")\n",
        "                cidade = cidade + \" \" + adicionar\n",
        "                print(f\"Novo nome da cidade: {cidade}\")\n",
        "                break\n",
        "        else:\n",
        "            cidades.append(cidade)\n",
        "            break\n",
        "\n",
        "# Exibe a lista de cidades inseridas\n",
        "print(\"\\nCidades inseridas:\")\n",
        "for cidade in cidades:\n",
        "    print(cidade)\n",
        "\n",
        "# Encontrar a cidade com o nome mais extenso\n",
        "cidade_mais_extensa = max(cidades, key=len)\n",
        "\n",
        "# Exibe o nome da cidade mais extensa\n",
        "print(f\"\\nA cidade com o nome mais extenso é: {cidade_mais_extensa}\")\n"
      ],
      "metadata": {
        "colab": {
          "base_uri": "https://localhost:8080/"
        },
        "id": "MdZVwYmQwY_f",
        "outputId": "dff5947b-2f55-4ab1-c038-925e10a6a114"
      },
      "execution_count": null,
      "outputs": [
        {
          "output_type": "stream",
          "name": "stdout",
          "text": [
            "Digite o nome da cidade 1: curitiba\n",
            "Digite o nome da cidade 2: bezerros\n",
            "Digite o nome da cidade 3: recife\n",
            "Digite o nome da cidade 4: caruaru\n",
            "Digite o nome da cidade 5: noronha\n",
            "Digite o nome da cidade 6: itapemirim\n",
            "\n",
            "Cidades inseridas:\n",
            "curitiba\n",
            "bezerros\n",
            "recife\n",
            "caruaru\n",
            "noronha\n",
            "itapemirim\n",
            "\n",
            "A cidade com o nome mais extenso é: itapemirim\n"
          ]
        }
      ]
    },
    {
      "cell_type": "markdown",
      "source": [
        "Explicação do código:\n",
        "\n",
        "Função cidade_existe(cidades, cidade):\n",
        "\n",
        "Esta função recebe a lista de cidades e o nome de uma cidade e retorna True se a cidade já foi inserida na lista. Caso contrário, retorna False.\n",
        "\n",
        "Laço for para receber as cidades:\n",
        "\n",
        "O programa pede ao usuário para inserir 6 cidades.\n",
        "\n",
        "Para cada cidade, o código verifica se já foi inserida. Se sim, ele oferece ao usuário a opção de concatenar dados ao nome da cidade.\n",
        "\n",
        "Se o nome não existir, o nome é adicionado à lista.\n",
        "\n",
        "Concatenar informações ao nome da cidade:\n",
        "\n",
        "Se a cidade já existir na lista e o usuário quiser adicionar algo, o programa pergunta o que o usuário deseja adicionar e junta isso ao nome da cidade.\n",
        "\n",
        "Exibição das cidades inseridas:\n",
        "\n",
        "O programa exibe todas as cidades inseridas pelo usuário.\n",
        "\n",
        "Encontrar a cidade com o nome mais extenso:\n",
        "\n",
        "O programa usa a função max() para encontrar a cidade com o nome mais longo (baseado no tamanho da string)."
      ],
      "metadata": {
        "id": "4myXKOMawZ9G"
      }
    },
    {
      "cell_type": "markdown",
      "source": [
        "22) Faça um Programa que verifique se uma letra digitada é vogal ou consoante."
      ],
      "metadata": {
        "id": "el26WRMEwp9N"
      }
    },
    {
      "cell_type": "code",
      "source": [
        "letra = input(\"Digite uma letra: \").strip().lower()\n",
        "\n",
        "if len(letra) == 1 and letra.isalpha():\n",
        "    if letra in \"aeiou\":\n",
        "        print(\"Vogal\")\n",
        "    else:\n",
        "        print(\"Consoante\")\n",
        "else:\n",
        "    print(\"Entrada inválida! Por favor, digite apenas uma letra.\")\n",
        "\n",
        "# strip() tira espaços extras.\n",
        "\n",
        "#len(letra) == 1 garante que só uma letra foi digitada.\n",
        "\n",
        "#isalpha() garante que é uma letra (não número ou símbolo).\n",
        "\n",
        "#Depois verifica se é vogal ou consoante."
      ],
      "metadata": {
        "colab": {
          "base_uri": "https://localhost:8080/"
        },
        "id": "DbMxcS4sw_DZ",
        "outputId": "195b443f-814f-4741-d3e2-8bc78282f316"
      },
      "execution_count": null,
      "outputs": [
        {
          "output_type": "stream",
          "name": "stdout",
          "text": [
            "Digite uma letra: k\n",
            "Consoante\n"
          ]
        }
      ]
    },
    {
      "cell_type": "markdown",
      "source": [
        "23) Faça um programa para a leitura de duas notas parciais de um aluno. O programa deve calcular\n",
        "a média alcançada por aluno e apresentar:\n",
        "• A mensagem \"Aprovado\", se a média alcançada for maior ou igual a sete;\n",
        "• A mensagem \"Reprovado\", se a média for menor do que sete;\n",
        "• A mensagem \"Aprovado com Distinção\", se a média for igual a dez."
      ],
      "metadata": {
        "id": "pc4jZu1kxUFX"
      }
    },
    {
      "cell_type": "code",
      "source": [
        "# Ler as duas notas\n",
        "nota1 = float(input(\"Digite a primeira nota: \"))\n",
        "nota2 = float(input(\"Digite a segunda nota: \"))\n",
        "\n",
        "# Calcular a média\n",
        "media = (nota1 + nota2) / 2\n",
        "# Verificar e mostrar o resultado\n",
        "if media == 10:\n",
        "    print(\"Aprovado com Distinção\")\n",
        "elif media >= 7:\n",
        "    print(\"Aprovado\")\n",
        "else:\n",
        "    print(\"Reprovado\")\n"
      ],
      "metadata": {
        "colab": {
          "base_uri": "https://localhost:8080/"
        },
        "id": "8vmbjJ7gxUOY",
        "outputId": "e8d61c56-9db8-4898-8bf7-d464d3ffd385"
      },
      "execution_count": null,
      "outputs": [
        {
          "output_type": "stream",
          "name": "stdout",
          "text": [
            "Digite a primeira nota: 2.5\n",
            "Digite a segunda nota: 8.4\n",
            "Reprovado\n"
          ]
        }
      ]
    },
    {
      "cell_type": "markdown",
      "source": [
        "24) Faça um Programa que leia três palavras e mostre a maior palavra entre eles, além de apresentar quantos caracteres tem na palavra."
      ],
      "metadata": {
        "id": "2ZGfwK-exmY5"
      }
    },
    {
      "cell_type": "code",
      "source": [
        "# Ler as três palavras\n",
        "palavra1 = input(\"Digite a primeira palavra: \")\n",
        "palavra2 = input(\"Digite a segunda palavra: \")\n",
        "palavra3 = input(\"Digite a terceira palavra: \")\n",
        "\n",
        "# Comparar as palavras e encontrar a maior\n",
        "maior_palavra = max(palavra1, palavra2, palavra3, key=len)\n",
        "\n",
        "# Exibir a maior palavra e a quantidade de caracteres\n",
        "print(f\"A maior palavra é: {maior_palavra}\")\n",
        "print(f\"A palavra tem {len(maior_palavra)} caracteres.\")\n"
      ],
      "metadata": {
        "id": "YFs51FtDxmfF"
      },
      "execution_count": null,
      "outputs": []
    },
    {
      "cell_type": "markdown",
      "source": [
        "O programa lê três palavras com input().\n",
        "\n",
        "Usa a função max() com o parâmetro key=len para comparar as palavras e escolher a maior (com base no número de caracteres).\n",
        "\n",
        "len(maior_palavra) calcula o número de caracteres da maior palavra.\n",
        "\n",
        "Exibe a maior palavra e sua quantidade de caracteres."
      ],
      "metadata": {
        "id": "L7gEvBfaxu7Q"
      }
    },
    {
      "cell_type": "markdown",
      "source": [
        "25) Faça um Programa que leia três números e mostre o maior e o menor deles."
      ],
      "metadata": {
        "id": "GgwkK5SQxyyf"
      }
    },
    {
      "cell_type": "code",
      "source": [
        "# Ler os três números\n",
        "num1 = float(input(\"Digite o primeiro número: \"))\n",
        "num2 = float(input(\"Digite o segundo número: \"))\n",
        "num3 = float(input(\"Digite o terceiro número: \"))\n",
        "\n",
        "# Encontrar o maior e o menor número\n",
        "maior = max(num1, num2, num3)\n",
        "menor = min(num1, num2, num3)\n",
        "\n",
        "# Exibir os resultados\n",
        "print(f\"O maior número é: {maior}\")\n",
        "print(f\"O menor número é: {menor}\")\n"
      ],
      "metadata": {
        "colab": {
          "base_uri": "https://localhost:8080/"
        },
        "id": "FdInwVnCx4_n",
        "outputId": "a874dbbd-abf3-44b2-fd1f-65e3c400c661"
      },
      "execution_count": null,
      "outputs": [
        {
          "output_type": "stream",
          "name": "stdout",
          "text": [
            "Digite o primeiro número: 3\n",
            "Digite o segundo número: 5\n",
            "Digite o terceiro número: 8\n",
            "O maior número é: 8.0\n",
            "O menor número é: 3.0\n"
          ]
        }
      ]
    },
    {
      "cell_type": "markdown",
      "source": [
        "26) Faça um programa que pergunte o preço de três produtos e informe qual produto você deve\n",
        "comprar, sabendo que a decisão é sempre pelo mais barato."
      ],
      "metadata": {
        "id": "RQNkStz0x_K_"
      }
    },
    {
      "cell_type": "code",
      "source": [
        "# Ler os preços dos três produtos\n",
        "preco1 = float(input(\"Digite o preço do produto 1: R$ \"))\n",
        "preco2 = float(input(\"Digite o preço do produto 2: R$ \"))\n",
        "preco3 = float(input(\"Digite o preço do produto 3: R$ \"))\n",
        "\n",
        "# Encontrar o preço mais barato\n",
        "menor_preco = min(preco1, preco2, preco3)\n",
        "\n",
        "# Determinar qual produto é o mais barato\n",
        "if menor_preco == preco1:\n",
        "    produto = \"produto 1\"\n",
        "elif menor_preco == preco2:\n",
        "    produto = \"produto 2\"\n",
        "else:\n",
        "    produto = \"produto 3\"\n",
        "\n",
        "# Exibir o resultado\n",
        "print(f\"Você deve comprar o {produto}, que custa R$ {menor_preco:.2f}.\")\n"
      ],
      "metadata": {
        "colab": {
          "base_uri": "https://localhost:8080/"
        },
        "id": "hRLneAlpyAVs",
        "outputId": "f264b527-b7d9-4541-843c-8bbab1756d13"
      },
      "execution_count": null,
      "outputs": [
        {
          "output_type": "stream",
          "name": "stdout",
          "text": [
            "Digite o preço do produto 1: R$ 5.45\n",
            "Digite o preço do produto 2: R$ 6.53\n",
            "Digite o preço do produto 3: R$ 4\n",
            "Você deve comprar o produto 3, que custa R$ 4.00.\n"
          ]
        }
      ]
    },
    {
      "cell_type": "markdown",
      "source": [
        "27) Faça um Programa que leia três números e mostre-os em ordem decrescente."
      ],
      "metadata": {
        "id": "gzgLlz4pyZ4V"
      }
    },
    {
      "cell_type": "code",
      "source": [
        "# Ler os três números\n",
        "num1 = float(input(\"Digite o primeiro número: \"))\n",
        "num2 = float(input(\"Digite o segundo número: \"))\n",
        "num3 = float(input(\"Digite o terceiro número: \"))\n",
        "\n",
        "# Colocar os números em uma lista\n",
        "numeros = [num1, num2, num3]\n",
        "\n",
        "# Ordenar a lista em ordem decrescente\n",
        "numeros.sort(reverse=True)\n",
        "\n",
        "# Exibir os números ordenados\n",
        "print(\"Números em ordem decrescente:\")\n",
        "for num in numeros:\n",
        "    print(num)\n"
      ],
      "metadata": {
        "id": "5QO1OFc0yPB9"
      },
      "execution_count": null,
      "outputs": []
    },
    {
      "cell_type": "markdown",
      "source": [
        "Lê os três números com input().\n",
        "\n",
        "Coloca eles numa lista.\n",
        "\n",
        "Usa o método .sort(reverse=True) para ordenar do maior para o menor.\n",
        "\n",
        "Exibe os números ordenados."
      ],
      "metadata": {
        "id": "R-q2KhwhyO75"
      }
    },
    {
      "cell_type": "markdown",
      "source": [
        "28) Faça um Programa que pergunte em que turno você estuda. Peça para digitar M-matutino ou V- Vespertino ou N- Noturno. Imprima a mensagem \"Bom Dia!\", \"Boa Tarde!\" ou \"Boa Noite!\" ou \"Valor Inválido!\", conforme o caso."
      ],
      "metadata": {
        "id": "Jj0VMJQDyex7"
      }
    },
    {
      "cell_type": "code",
      "source": [
        "# Perguntar o turno em que o usuário estuda\n",
        "turno = input(\"Em que turno você estuda? (M - Matutino, V - Vespertino, N - Noturno): \").strip().upper()\n",
        "\n",
        "# Verificar e imprimir a mensagem conforme o turno\n",
        "if turno == 'M':\n",
        "    print(\"Bom Dia!\")\n",
        "elif turno == 'V':\n",
        "    print(\"Boa Tarde!\")\n",
        "elif turno == 'N':\n",
        "    print(\"Boa Noite!\")\n",
        "else:\n",
        "    print(\"Valor Inválido!\")\n"
      ],
      "metadata": {
        "id": "fnHK6cTKylIv"
      },
      "execution_count": null,
      "outputs": []
    },
    {
      "cell_type": "markdown",
      "source": [
        "O programa pergunta o turno (M, V, N) e usa strip().upper() para garantir que a entrada seja limpa de espaços extras e seja em maiúsculas.\n",
        "\n",
        "O código verifica o turno digitado e imprime a mensagem correspondente:\n",
        "\n",
        "\"Bom Dia!\" para o turno matutino (M),\n",
        "\n",
        "\"Boa Tarde!\" para o vespertino (V),\n",
        "\n",
        "\"Boa Noite!\" para o noturno (N).\n",
        "\n",
        "Se o usuário digitar qualquer valor diferente de M, V ou N, ele mostra \"Valor Inválido!\"."
      ],
      "metadata": {
        "id": "g74PP1FFytW8"
      }
    },
    {
      "cell_type": "markdown",
      "source": [
        "29) As Organizações PLP LTDAresolveram dar um aumento de salário aos seus colaboradores e lhe\n",
        "contraram para desenvolver o programa que calculará os reajustes. O reajuste acontecerá segundo o\n",
        "seguinte critério, baseado no salário atual:\n",
        "• salários até R$ 280,00 (incluindo) : aumento de 20%\n",
        "• salários entre R$ 280,00 e R$ 700,00 : aumento de 15%\n",
        "• salários entre R$ 700,00 e R$ 1500,00 : aumento de 10%\n",
        "• salários de R$ 1500,00 em diante : aumento de 5% Após o aumento ser realizado, informe na\n",
        "tela:\n",
        "• o salário antes do reajuste;\n",
        "• o percentual de aumento aplicado;\n",
        "• o valor do aumento;\n",
        "• o novo salário, após o aumento."
      ],
      "metadata": {
        "id": "rebarDmyyuKQ"
      }
    },
    {
      "cell_type": "code",
      "source": [
        "# Ler o salário atual\n",
        "salario = float(input(\"Digite o salário atual: R$ \"))\n",
        "\n",
        "# Determinar o percentual de aumento conforme o salário\n",
        "if salario <= 280:\n",
        "    percentual = 20\n",
        "elif salario <= 700:\n",
        "    percentual = 15\n",
        "elif salario <= 1500:\n",
        "    percentual = 10\n",
        "else:\n",
        "    percentual = 5\n",
        "\n",
        "# Calcular o valor do aumento e o novo salário\n",
        "valor_aumento = salario * (percentual / 100)\n",
        "novo_salario = salario + valor_aumento\n",
        "\n",
        "# Mostrar os resultados\n",
        "print(f\"Salário antes do reajuste: R$ {salario:.2f}\")\n",
        "print(f\"Percentual de aumento aplicado: {percentual}%\")\n",
        "print(f\"Valor do aumento: R$ {valor_aumento:.2f}\")\n",
        "print(f\"Novo salário após o aumento: R$ {novo_salario:.2f}\")\n"
      ],
      "metadata": {
        "id": "F76KMXRmyzXl"
      },
      "execution_count": null,
      "outputs": []
    },
    {
      "cell_type": "markdown",
      "source": [
        "30) Faça um programa para o cálculo de uma folha de pagamento, sabendo que os descontos são do\n",
        "Imposto de Renda, que depende do salário bruto (conforme tabela abaixo) e 3% para o Sindicato e\n",
        "que o FGTS corresponde a 11% do Salário Bruto, mas não é descontado (é a empresa que deposita).\n",
        "O Salário Líquido corresponde ao Salário Bruto menos os descontos. O programa deverá pedir ao\n",
        "usuário o valor da sua hora e a quantidade de horas trabalhadas no mês.\n",
        "Desconto do IR:\n",
        "• Salário Bruto até 900 (inclusive) - isento\n",
        "• Salário Bruto até 1500 (inclusive) - desconto de 5%\n",
        "• Salário Bruto até 2500 (inclusive) - desconto de 10%\n",
        "\n",
        "4\n",
        "• Salário Bruto acima de 2500 - desconto de 20% Imprima na tela as informações, dispostas\n",
        "conforme o exemplo abaixo. No exemplo o valor da hora é 5 e a quantidade de hora é 220.\n",
        "Salário Bruto: (5 * 220) : R$ 1100,00\n",
        "(-) IR (5%) : R$ 55,00\n",
        "(-) INSS ( 10%) : R$ 110,00\n",
        "FGTS (11%) : R$ 121,00\n",
        "Total de descontos : R$ 165,00\n",
        "Salário Liquido : R$ 935,00"
      ],
      "metadata": {
        "id": "FJ-yRaFZzTQm"
      }
    },
    {
      "cell_type": "code",
      "source": [
        "# Entrada de dados\n",
        "valor_hora = float(input(\"Digite o valor da sua hora de trabalho: R$ \"))\n",
        "horas_trabalhadas = float(input(\"Digite a quantidade de horas trabalhadas no mês: \"))\n",
        "\n",
        "# Cálculo do salário bruto\n",
        "salario_bruto = valor_hora * horas_trabalhadas\n",
        "\n",
        "# Cálculo do desconto do IR conforme tabela\n",
        "if salario_bruto <= 900:\n",
        "    desconto_ir = 0\n",
        "    percentual_ir = 0\n",
        "elif salario_bruto <= 1500:\n",
        "    percentual_ir = 5\n",
        "    desconto_ir = salario_bruto * 0.05\n",
        "elif salario_bruto <= 2500:\n",
        "    percentual_ir = 10\n",
        "    desconto_ir = salario_bruto * 0.10\n",
        "else:\n",
        "    percentual_ir = 20\n",
        "    desconto_ir = salario_bruto * 0.20\n",
        "\n",
        "# Desconto do INSS (10%)\n",
        "percentual_inss = 10\n",
        "desconto_inss = salario_bruto * 0.10\n",
        "\n",
        "# Desconto do Sindicato (3%)\n",
        "percentual_sindicato = 3\n",
        "desconto_sindicato = salario_bruto * 0.03\n",
        "\n",
        "# FGTS (11%) - não descontado\n",
        "fgts = salario_bruto * 0.11\n",
        "\n",
        "# Total de descontos (IR + INSS + Sindicato)\n",
        "total_descontos = desconto_ir + desconto_inss + desconto_sindicato\n",
        "\n",
        "# Salário líquido\n",
        "salario_liquido = salario_bruto - total_descontos\n",
        "\n",
        "# Exibir os resultados formatados\n",
        "print(f\"Salário Bruto: ({valor_hora} * {horas_trabalhadas}) : R$ {salario_bruto:.2f}\")\n",
        "print(f\"(-) IR ({percentual_ir}%) : R$ {desconto_ir:.2f}\")\n",
        "print(f\"(-) INSS ({percentual_inss}%) : R$ {desconto_inss:.2f}\")\n",
        "print(f\"(-) Sindicato ({percentual_sindicato}%) : R$ {desconto_sindicato:.2f}\")\n",
        "print(f\"FGTS (11%) : R$ {fgts:.2f}\")\n",
        "print(f\"Total de descontos : R$ {total_descontos:.2f}\")\n",
        "print(f\"Salário Liquido : R$ {salario_liquido:.2f}\")\n"
      ],
      "metadata": {
        "id": "5SiJCakLzUQO"
      },
      "execution_count": null,
      "outputs": []
    },
    {
      "cell_type": "markdown",
      "source": [
        "31) Faça um programa que faça 5 perguntas para uma pessoa sobre um crime. As perguntas são:\n",
        "a. \"Telefonou para a vítima?\"\n",
        "b. \"Esteve no local do crime?\"\n",
        "c. \"Mora perto da vítima?\"\n",
        "d. \"Devia para a vítima?\"\n",
        "e. \"Já trabalhou com a vítima?\"\n",
        "O programa deve no final emitir uma classificação sobre a participação da pessoa no crime. Se a\n",
        "pessoa responder positivamente a 2 questões ela deve ser classificada como \"Suspeita\", entre 3 e 4\n",
        "como \"Cúmplice\" e 5 como \"Assassino\". Caso contrário, ele será classificado como \"Inocente\"."
      ],
      "metadata": {
        "id": "agkqFVWDzj9F"
      }
    },
    {
      "cell_type": "code",
      "source": [
        "# Lista das perguntas\n",
        "perguntas = [\n",
        "    \"Telefonou para a vítima? (sim/não): \",\n",
        "    \"Esteve no local do crime? (sim/não): \",\n",
        "    \"Mora perto da vítima? (sim/não): \",\n",
        "    \"Devia para a vítima? (sim/não): \",\n",
        "    \"Já trabalhou com a vítima? (sim/não): \"\n",
        "]\n",
        "\n",
        "# Contador de respostas positivas\n",
        "respostas_positivas = 0\n",
        "\n",
        "# Fazer as perguntas e contar respostas \"sim\"\n",
        "for pergunta in perguntas:\n",
        "    resposta = input(pergunta).strip().lower()\n",
        "    if resposta == 'sim':\n",
        "        respostas_positivas += 1\n",
        "\n",
        "# Classificar conforme o número de respostas positivas\n",
        "if respostas_positivas == 5:\n",
        "    classificacao = \"Assassino\"\n",
        "elif 3 <= respostas_positivas <= 4:\n",
        "    classificacao = \"Cúmplice\"\n",
        "elif respostas_positivas == 2:\n",
        "    classificacao = \"Suspeita\"\n",
        "else:\n",
        "    classificacao = \"Inocente\"\n",
        "\n",
        "# Mostrar resultado\n",
        "print(f\"\\nVocê respondeu 'sim' a {respostas_positivas} perguntas.\")\n",
        "print(f\"Classificação: {classificacao}\")\n"
      ],
      "metadata": {
        "id": "E5zmftyDzwhl"
      },
      "execution_count": null,
      "outputs": []
    },
    {
      "cell_type": "markdown",
      "source": [
        "32) Faça um programa que cadastre o nome, a matrícula e duas notas de 13 alunos. Em seguida\n",
        "imprima a matrícula, o nome e a média de cada um deles."
      ],
      "metadata": {
        "id": "UrNgettrzy0e"
      }
    },
    {
      "cell_type": "code",
      "source": [
        "# Lista para armazenar os dados dos alunos\n",
        "alunos = []\n",
        "\n",
        "# Cadastro dos 13 alunos\n",
        "for i in range(13):\n",
        "    print(f\"\\nCadastro do aluno {i + 1}:\")\n",
        "    nome = input(\"Nome: \")\n",
        "    matricula = input(\"Matrícula: \")\n",
        "    nota1 = float(input(\"Nota 1: \"))\n",
        "    nota2 = float(input(\"Nota 2: \"))\n",
        "    media = (nota1 + nota2) / 2\n",
        "\n",
        "    # Armazena os dados em um dicionário e adiciona na lista\n",
        "    aluno = {\n",
        "        \"matricula\": matricula,\n",
        "        \"nome\": nome,\n",
        "        \"media\": media\n",
        "    }\n",
        "    alunos.append(aluno)\n",
        "\n",
        "# Exibir os dados de cada aluno\n",
        "print(\"\\nResultado dos alunos:\")\n",
        "for aluno in alunos:\n",
        "    print(f\"Matrícula: {aluno['matricula']} | Nome: {aluno['nome']} | Média: {aluno['media']:.2f}\")\n"
      ],
      "metadata": {
        "id": "Tf3S3l8Oz4qp"
      },
      "execution_count": null,
      "outputs": []
    },
    {
      "cell_type": "markdown",
      "source": [
        "33) Faça um programa que cadastre o nome, a altura, o peso, o cpf e sexo de algumas pessoas. Com\n",
        "os dados cadastrados, em seguida localizar uma pessoas através do seu CPF e imprimir o seu IMC.\n",
        "Obs.: Solicitar ao usuário se deseja cadastrar mais pessoas ou parar."
      ],
      "metadata": {
        "id": "8deddcu6z9EH"
      }
    },
    {
      "cell_type": "code",
      "source": [
        "# Função para calcular o IMC\n",
        "def calcular_imc(peso, altura):\n",
        "    return peso / (altura ** 2)\n",
        "\n",
        "# Lista para armazenar os dados das pessoas\n",
        "pessoas = []\n",
        "\n",
        "# Loop para cadastrar pessoas\n",
        "while True:\n",
        "    print(\"\\nCadastro de pessoa:\")\n",
        "\n",
        "    nome = input(\"Nome: \")\n",
        "    cpf = input(\"CPF: \")\n",
        "    altura = float(input(\"Altura (em metros): \"))\n",
        "    peso = float(input(\"Peso (em kg): \"))\n",
        "    sexo = input(\"Sexo (M/F): \").upper()\n",
        "\n",
        "    # Armazenar os dados em um dicionário\n",
        "    pessoa = {\n",
        "        \"nome\": nome,\n",
        "        \"cpf\": cpf,\n",
        "        \"altura\": altura,\n",
        "        \"peso\": peso,\n",
        "        \"sexo\": sexo\n",
        "    }\n",
        "    pessoas.append(pessoa)\n",
        "\n",
        "    # Perguntar se o usuário quer cadastrar outra pessoa\n",
        "    continuar = input(\"\\nDeseja cadastrar outra pessoa? (s/n): \").strip().lower()\n",
        "    if continuar != 's':\n",
        "        break\n",
        "\n",
        "# Perguntar ao usuário qual CPF ele deseja procurar\n",
        "cpf_busca = input(\"\\nDigite o CPF da pessoa para procurar: \")\n",
        "\n",
        "# Buscar a pessoa pelo CPF\n",
        "pessoa_encontrada = None\n",
        "for pessoa in pessoas:\n",
        "    if pessoa[\"cpf\"] == cpf_busca:\n",
        "        pessoa_encontrada = pessoa\n",
        "        break\n",
        "\n",
        "# Se a pessoa for encontrada, calcular e mostrar o IMC\n",
        "if pessoa_encontrada:\n",
        "    imc = calcular_imc(pessoa_encontrada[\"peso\"], pessoa_encontrada[\"altura\"])\n",
        "    print(f\"\\nPessoa encontrada: {pessoa_encontrada['nome']}\")\n",
        "    print(f\"IMC de {pessoa_encontrada['nome']}: {imc:.2f}\")\n",
        "else:\n",
        "    print(\"\\nPessoa com o CPF informado não encontrada.\")\n"
      ],
      "metadata": {
        "id": "H-AAzEB50BzN"
      },
      "execution_count": null,
      "outputs": []
    },
    {
      "cell_type": "markdown",
      "source": [
        "Programa para Cadastro de Pessoas e Cálculo de IMC:\n",
        "\n",
        "Cadastro de pessoas:\n",
        "\n",
        "O programa solicita o nome, CPF, altura, peso e sexo de várias pessoas, e armazena esses dados em uma lista.\n",
        "\n",
        "Busca por CPF:\n",
        "\n",
        "O usuário pode buscar uma pessoa pelo CPF cadastrado e, se encontrada, o IMC é calculado usando a fórmula:\n",
        "\n",
        "𝐼\n",
        "𝑀\n",
        "𝐶\n",
        "=\n",
        "𝑝\n",
        "𝑒\n",
        "𝑠\n",
        "𝑜\n",
        "𝑎\n",
        "𝑙\n",
        "𝑡\n",
        "𝑢\n",
        "𝑟\n",
        "𝑎\n",
        "2\n",
        "IMC=\n",
        "altura\n",
        "2\n",
        "peso\n",
        "\t​\n",
        "\n",
        "\n",
        "Interatividade:\n",
        "\n",
        "Após cadastrar uma pessoa, o programa pergunta se deseja cadastrar mais pessoas ou parar.\n",
        "\n",
        "Se o usuário quiser parar, ele pode buscar uma pessoa pelo CPF e ver o IMC dela.\n",
        "\n",
        "Funções principais:\n",
        "\n",
        "Cadastrar pessoa: Nome, CPF, altura, peso e sexo.\n",
        "\n",
        "Buscar por CPF: Calcular e mostrar o IMC da pessoa.\n",
        "\n",
        "Se precisar de mais detalhes ou ajustes, me avise!"
      ],
      "metadata": {
        "id": "q02CJLut0MTN"
      }
    }
  ],
  "metadata": {
    "colab": {
      "toc_visible": true,
      "provenance": [],
      "include_colab_link": true
    },
    "kernelspec": {
      "display_name": "Python 3",
      "name": "python3"
    }
  },
  "nbformat": 4,
  "nbformat_minor": 0
}